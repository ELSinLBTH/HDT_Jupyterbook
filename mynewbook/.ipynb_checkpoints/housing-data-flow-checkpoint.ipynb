{
 "cells": [
  {
   "cell_type": "markdown",
   "id": "11f68015",
   "metadata": {},
   "source": [
    "# Housing Data Flow\n",
    "\n",
    "This is Housing Data Flow page."
   ]
  },
  {
   "cell_type": "markdown",
   "id": "4cb24df0",
   "metadata": {},
   "source": [
    "## User Research\n",
    "“Lorem ipsum dolor sit amet, consectetur adipiscing elit, sed do eiusmod tempor incididunt ut labore et dolore magna aliqua. Ut enim ad minim veniam, quis nostrud exercitation ullamco laboris nisi ut aliquip ex ea commodo consequat. Duis aute irure dolor in reprehenderit in voluptate velit esse cillum dolore eu fugiat nulla pariatur. Excepteur sint occaecat cupidatat non proident, sunt in culpa qui officia deserunt mollit anim id est laborum.”"
   ]
  },
  {
   "cell_type": "markdown",
   "id": "e60e26f6",
   "metadata": {},
   "source": [
    "\n",
    "### Overview\n",
    "“Lorem ipsum dolor sit amet, consectetur adipiscing elit, sed do eiusmod tempor incididunt ut labore et dolore magna aliqua. Ut enim ad minim veniam, quis nostrud exercitation ullamco laboris nisi ut aliquip ex ea commodo consequat. Duis aute irure dolor in reprehenderit in voluptate velit esse cillum dolore eu fugiat nulla pariatur. Excepteur sint occaecat cupidatat non proident, sunt in culpa qui officia deserunt mollit anim id est laborum.”"
   ]
  },
  {
   "cell_type": "markdown",
   "id": "11193ca9",
   "metadata": {},
   "source": [
    "### Aimns and Objectives\n",
    "“Lorem ipsum dolor sit amet, consectetur adipiscing elit, sed do eiusmod tempor incididunt ut labore et dolore magna aliqua. Ut enim ad minim veniam, quis nostrud exercitation ullamco laboris nisi ut aliquip ex ea commodo consequat. Duis aute irure dolor in reprehenderit in voluptate velit esse cillum dolore eu fugiat nulla pariatur. Excepteur sint occaecat cupidatat non proident, sunt in culpa qui officia deserunt mollit anim id est laborum.”"
   ]
  },
  {
   "cell_type": "markdown",
   "id": "c8bdba13",
   "metadata": {},
   "source": [
    "\n",
    "### Expected Impact\n",
    "“Lorem ipsum dolor sit amet, consectetur adipiscing elit, sed do eiusmod tempor incididunt ut labore et dolore magna aliqua. Ut enim ad minim veniam, quis nostrud exercitation ullamco laboris nisi ut aliquip ex ea commodo consequat. Duis aute irure dolor in reprehenderit in voluptate velit esse cillum dolore eu fugiat nulla pariatur. Excepteur sint occaecat cupidatat non proident, sunt in culpa qui officia deserunt mollit anim id est laborum.”"
   ]
  },
  {
   "cell_type": "markdown",
   "id": "ca864410",
   "metadata": {},
   "source": [
    "## Methodology\n",
    "“Lorem ipsum dolor sit amet, consectetur adipiscing elit, sed do eiusmod tempor incididunt ut labore et dolore magna aliqua. Ut enim ad minim veniam, quis nostrud exercitation ullamco laboris nisi ut aliquip ex ea commodo consequat. Duis aute irure dolor in reprehenderit in voluptate velit esse cillum dolore eu fugiat nulla pariatur. Excepteur sint occaecat cupidatat non proident, sunt in culpa qui officia deserunt mollit anim id est laborum.”"
   ]
  },
  {
   "cell_type": "markdown",
   "id": "18a3959e",
   "metadata": {},
   "source": [
    "### Focus group discussions - Data Discovery\n",
    "\n",
    "### Team Interviews\n",
    "\n",
    "### Output Structure\n",
    "\n",
    "<ul>\n",
    "    <li>Process</li>\n",
    "    More contents.\n",
    "    <li>Data</li>\n",
    "    More contents. \n",
    "    <li>Definitions</li>\n",
    "    More contents.\n",
    "    <li>Cycle</li>\n",
    "    More contents.\n",
    "</ul>\n",
    "\n",
    "### LLM methodology \n",
    "\n",
    "## User Research Results 1\n",
    "\n",
    "### Results overview - BAU process diagram \n",
    "\n",
    "### Results overview - BAU data diagram\n",
    "\n",
    "### LLM result\n"
   ]
  },
  {
   "cell_type": "markdown",
   "id": "10e6c23e",
   "metadata": {},
   "source": [
    "## User Research Results 2\n",
    "BAU and Data as Outcome\n",
    "\n",
    "### Strategic Planning - Local Plan\n",
    "*Introduction*<br>\n",
    "The Strategic Planning team consists of two teams: Place Shaping and Plan Making. The Plan Making team produces a Local Plan every 5 years, which sets out the policies that will shape the borough. The plan comprises the need for new homes, jobs, and services to meet the objectives and will be used to make decisions on planning applications. \n",
    "\n",
    "*Process and Outcome Data*<br>\n",
    "The process can be divided into 3 stages: Early Engagement, Regulation 18, and Regulation 19. \n"
   ]
  },
  {
   "cell_type": "code",
   "execution_count": 294,
   "id": "64cdf8f2",
   "metadata": {},
   "outputs": [
    {
     "data": {
      "text/html": [
       "<div style='text-align:center;'><img src='Images/SP1.png'>"
      ],
      "text/plain": [
       "<IPython.core.display.HTML object>"
      ]
     },
     "metadata": {},
     "output_type": "display_data"
    },
    {
     "data": {
      "text/html": [
       "<p style='text-align:center; font-size:14px;'><i>Figure 1: Strategic Planning overall workflow</i></p>"
      ],
      "text/plain": [
       "<IPython.core.display.HTML object>"
      ]
     },
     "metadata": {},
     "output_type": "display_data"
    }
   ],
   "source": [
    "from IPython.display import Image, display, HTML\n",
    "display(HTML(\"<div style='text-align:center;'><img src='Images/SP1.png'>\"))\n",
    "display(HTML(\"<p style='text-align:center; font-size:14px;'><i>Figure 1: Strategic Planning overall workflow</i></p>\"))"
   ]
  },
  {
   "cell_type": "code",
   "execution_count": 295,
   "id": "b0b2f952",
   "metadata": {},
   "outputs": [
    {
     "data": {
      "text/html": [
       "<div style='text-align:center;'><img src='Images/SP2.png' width='500'></div>"
      ],
      "text/plain": [
       "<IPython.core.display.HTML object>"
      ]
     },
     "metadata": {},
     "output_type": "display_data"
    },
    {
     "data": {
      "text/html": [
       "<p style='text-align:center; font-size:14px;'><i>Figure 2: Strategic Planning Early Engagement workflow</i></p>"
      ],
      "text/plain": [
       "<IPython.core.display.HTML object>"
      ]
     },
     "metadata": {},
     "output_type": "display_data"
    }
   ],
   "source": [
    "from IPython.display import Image, display, HTML\n",
    "display(HTML(\"<div style='text-align:center;'><img src='Images/SP2.png' width='500'></div>\"))\n",
    "display(HTML(\"<p style='text-align:center; font-size:14px;'><i>Figure 2: Strategic Planning Early Engagement workflow</i></p>\"))"
   ]
  },
  {
   "cell_type": "markdown",
   "id": "b570db0b",
   "metadata": {},
   "source": [
    "**Early Engagement**<br>\n",
    "This stage involves gathering data and understanding the demands of stakeholders. It includes conducting consultations and carrying out land studies and site exercises. The outcome of this stage is the reports of studies and GIS layer for Site Allocation. The team receives Call for Site Forms from the public, which includes Site Identification, Land Ownership, Development Opportunities and Constraints, and Delivery Time Frame. "
   ]
  },
  {
   "cell_type": "code",
   "execution_count": 296,
   "id": "19e2f8d3",
   "metadata": {},
   "outputs": [
    {
     "data": {
      "text/html": [
       "<div style='text-align:center;'><img src='Images/SP3.png' width='500'></div>"
      ],
      "text/plain": [
       "<IPython.core.display.HTML object>"
      ]
     },
     "metadata": {},
     "output_type": "display_data"
    },
    {
     "data": {
      "text/html": [
       "<p style='text-align:center; font-size:14px;'><i>Figure 3: Strategic Planning Regulation 18 & 19 workflow</i></p>"
      ],
      "text/plain": [
       "<IPython.core.display.HTML object>"
      ]
     },
     "metadata": {},
     "output_type": "display_data"
    }
   ],
   "source": [
    "from IPython.display import Image, display, HTML\n",
    "display(HTML(\"<div style='text-align:center;'><img src='Images/SP3.png' width='500'></div>\"))\n",
    "display(HTML(\"<p style='text-align:center; font-size:14px;'><i>Figure 3: Strategic Planning Regulation 18 & 19 workflow</i></p>\"))"
   ]
  },
  {
   "cell_type": "markdown",
   "id": "2f67736f",
   "metadata": {},
   "source": [
    "**Regulation 18**<br>\n",
    "In this phase, the First Iteration of the Local Plan is drafted and released in accordance with the National Planning Policy Framework (NPPF) and the London Plan. The draft includes GIS layered information about Strategic and Local Industrial Locations, Area Growth Strategy, Tall Buildings Zone, Flood Zone, Conservation Area, Waste management Site et cetera. \n",
    "\n",
    "**Regulation 19**<br>\n",
    "During this phase, the Infrastructure Delivery Plan is published, and the team collects feedback from the council, and the community - through the Policy Representation Form and Site Allocation Representation Form. Following this, a second iteration is prepared incorporating feedback and supported by evidence. The revised plan is then submitted to the Planning Inspectorate concluding the Regulation 19 phase."
   ]
  },
  {
   "cell_type": "code",
   "execution_count": 297,
   "id": "81227293",
   "metadata": {},
   "outputs": [
    {
     "data": {
      "text/html": [
       "<div style='text-align:center;'><img src='Images/SP4.png' width='500'></div>"
      ],
      "text/plain": [
       "<IPython.core.display.HTML object>"
      ]
     },
     "metadata": {},
     "output_type": "display_data"
    },
    {
     "data": {
      "text/html": [
       "<p style='text-align:center; font-size:14px;'><i>Figure 4: Strategic Planning Post-Regulation 19 workflow</i></p>"
      ],
      "text/plain": [
       "<IPython.core.display.HTML object>"
      ]
     },
     "metadata": {},
     "output_type": "display_data"
    }
   ],
   "source": [
    "from IPython.display import Image, display, HTML\n",
    "display(HTML(\"<div style='text-align:center;'><img src='Images/SP4.png' width='500'></div>\"))\n",
    "display(HTML(\"<p style='text-align:center; font-size:14px;'><i>Figure 4: Strategic Planning Post-Regulation 19 workflow</i></p>\"))"
   ]
  },
  {
   "cell_type": "markdown",
   "id": "a09b421c",
   "metadata": {},
   "source": [
    "**Post-Regulation 19**<br>\n",
    "After submission, a designated planning inspector reviews the draft. Once approved, the plan advances to the council meeting where it is signed off and published on the LBTH website as well as shared within the council. If disapproved, the plan returns to the Early Engagement and the process starts anew."
   ]
  },
  {
   "cell_type": "code",
   "execution_count": 298,
   "id": "6fa2f808",
   "metadata": {},
   "outputs": [
    {
     "data": {
      "text/html": [
       "<div style='text-align:center;'><img src='Images/SP5.png' width='500'></div>"
      ],
      "text/plain": [
       "<IPython.core.display.HTML object>"
      ]
     },
     "metadata": {},
     "output_type": "display_data"
    },
    {
     "data": {
      "text/html": [
       "<p style='text-align:center; font-size:14px;'><i>Figure 5: Strategic Planning AMR workflow</i></p>"
      ],
      "text/plain": [
       "<IPython.core.display.HTML object>"
      ]
     },
     "metadata": {},
     "output_type": "display_data"
    }
   ],
   "source": [
    "from IPython.display import Image, display, HTML\n",
    "display(HTML(\"<div style='text-align:center;'><img src='Images/SP5.png' width='500'></div>\"))\n",
    "display(HTML(\"<p style='text-align:center; font-size:14px;'><i>Figure 5: Strategic Planning AMR workflow</i></p>\"))"
   ]
  },
  {
   "cell_type": "markdown",
   "id": "103ffccc",
   "metadata": {},
   "source": [
    "**Annual Monitoring Report**<br>\n",
    "The Plan Making team is responsible for preparing the Annual Monitoring Report at the end of the year. They request pertinent data from various internal teams and compile the report based on this information.  \n",
    "\n",
    "**Consulting**<br>\n",
    "Both Place Shaping and Plan Making teams participate in consulting planning application before approval with planning team. The Place Shaping team reviews the design aspect of the application whereas the Plan making team ensures that the application complies with the policies."
   ]
  },
  {
   "cell_type": "markdown",
   "id": "bf7ae583",
   "metadata": {},
   "source": [
    "### Divisional Support\n",
    "*Introduction*"
   ]
  },
  {
   "cell_type": "markdown",
   "id": "cbb974f6",
   "metadata": {},
   "source": [
    "*Team Structure*\n",
    "The team is organised into four main sub-teams:\n",
    "<ul>\n",
    "    <li>Planning Support Sub-team(DM Validation)</li>\n",
    "    <li>Building Control Sub-team(BC Validation and currently allocated the SNN Validation)</li>\n",
    "    <li>Spatial Data Sub-team</li>\n",
    "    <li>Record and Information Management Sub-team</li>\n",
    "</ul>\n"
   ]
  },
  {
   "cell_type": "markdown",
   "id": "a36282f3",
   "metadata": {},
   "source": [
    "*Process Overview*\n",
    "\n",
    "The DS team's workflow includes three main validation processes:\n",
    "<ol>\n",
    "    <li>Development Management (DM) Application Validation</li>\n",
    "    <li>Building Control (BC) Application Validation</li>\n",
    "    <li>Street Name and Number (SNN) Application Validation</li>\n",
    "</ol>\n",
    "\n",
    "(Image)\n",
    "\n",
    "*Setp 1: Application Submission and Initial Processing*\n",
    "\n",
    "List and Image to be inserted "
   ]
  },
  {
   "cell_type": "markdown",
   "id": "5c410b28",
   "metadata": {},
   "source": [
    "### Development Management\n",
    "\n",
    "*Introduction*<br>\n",
    "The DM team is dedicated to evaluating development cases according to current policies and ensuring that housing construction meets certain conditions and compliance. According to the responsibilities of team members, the DM team can be divided into three groups: Area Planning West Group, Area Planning East Group and Planning Compliance Group. West and East Group handle the case from west and east of Tower Hamlets, while Planning Compliance Group mainly deals with those application that were made without planning permission or in breach of conditions.<br>\n",
    "The Development Management (DM) Team takes over a case once the DS Team completes the DM validation process. From this point, the DM Team handles the application, conducts reviews, and makes decisions on whether the development constructure is approved, refused, or approved with conditions.\n",
    "\n",
    "```{only} html\n",
    "```{figure} Images/image_name.png\n",
    ":name: image_name\n",
    ":align: center\n",
    "\n",
    "The entire workflow of the DM Team\n",
    "\n"
   ]
  },
  {
   "cell_type": "markdown",
   "id": "38fd0fe0",
   "metadata": {
    "vscode": {
     "languageId": "plaintext"
    }
   },
   "source": [
    "*Process Overview*<br>\n",
    "**Step 1: Handover and Initial Checking**\n",
    "<ol>\n",
    "    <li>After the DS Team completes the DM validation, the DM Team receives the case, including the application number, supporting documents, and the application form. Depending on the geographical location (East or West), the case is assigned to either the East Team or the West Team. Once the team receives the case, it is assigned to a planner for further review.</li>\n",
    "    <li>The planner will decide if the case needs to send to a committee to further review and discuss before the initial checking.</li>\n",
    "    <li>If the scheme is a major development, then the planning will do the validation for this scheme.</li>\n",
    "    <li>If the planner decides not to send the case to a committee, then the planner will start the work of checking. The checking includes reviewing the application documents, studying any prior decisions related to the site, and initiating any necessary negotiations with the developer.</li>\n",
    "    <li>Consultations with other teams and departments are also conducted. These consultations may involve the Strategy Planning Team, Housing Team, Community by All Diversity Team, Highway Team, and Environment Team, among others.</li>\n",
    "</ol>\n",
    "\n",
    "\n",
    "```{figure} Images/Image_name.png\n",
    ":name: image_name\n",
    ":aling: center\n",
    "\n",
    "Step 1 for DM workflow process\n"
   ]
  },
  {
   "cell_type": "markdown",
   "id": "4909f380",
   "metadata": {},
   "source": [
    "**step 2: Decision-Making Process**\n"
   ]
  },
  {
   "cell_type": "markdown",
   "id": "7884efca",
   "metadata": {},
   "source": [
    "**Additional step: Appeal and Committee Review**\n"
   ]
  },
  {
   "cell_type": "markdown",
   "id": "517384a6",
   "metadata": {},
   "source": [
    "**Step 3: Documentation and Notification**\n"
   ]
  },
  {
   "cell_type": "markdown",
   "id": "5c5d92aa",
   "metadata": {},
   "source": [
    "### Infrastructure Planning<br>\n",
    "The infrastructure team consists of 3 teams: CIL, S106 and Development Coordination.\n",
    "\n",
    "#### CIL Team\n",
    "*Community Infrastructure Levy (CIL) Introduction*<br>\n",
    "CIL is a charge levied by the local council on new developments that meet the criteria for liability. The funds collected are used for the community infrastructure projects such as education infra, health, leisure and sports facilities, transportation, open space, employment and enterprise, community centres and youth facilities and other utilities (water, gas, electricity). The team is responsible for both execution and projections, while the CIL team manages the payments and funds.\n",
    "\n",
    "*CIL Process and Outcome Data*"
   ]
  },
  {
   "cell_type": "code",
   "execution_count": 299,
   "id": "e4817312",
   "metadata": {},
   "outputs": [
    {
     "data": {
      "text/html": [
       "<div style='text-align:center;'><img src='Images/CIL1.png'></div>"
      ],
      "text/plain": [
       "<IPython.core.display.HTML object>"
      ]
     },
     "metadata": {},
     "output_type": "display_data"
    },
    {
     "data": {
      "text/html": [
       "<p style='text-align:center; font-size:14px;'><i>Figure : CIL overall workflow</i></p>"
      ],
      "text/plain": [
       "<IPython.core.display.HTML object>"
      ]
     },
     "metadata": {},
     "output_type": "display_data"
    }
   ],
   "source": [
    "from IPython.display import Image, display, HTML\n",
    "display(HTML(\"<div style='text-align:center;'><img src='Images/CIL1.png'></div>\"))\n",
    "display(HTML(\"<p style='text-align:center; font-size:14px;'><i>Figure : CIL overall workflow</i></p>\"))"
   ]
  },
  {
   "cell_type": "code",
   "execution_count": 300,
   "id": "f33ddd9d",
   "metadata": {},
   "outputs": [
    {
     "data": {
      "text/html": [
       "<div style='text-align:center;'><img src='Images/CIL2.png', width='500'></div>"
      ],
      "text/plain": [
       "<IPython.core.display.HTML object>"
      ]
     },
     "metadata": {},
     "output_type": "display_data"
    },
    {
     "data": {
      "text/html": [
       "<p style='text-align:center; font-size:14px;'><i>Figure : CIL Pre-commencement workflow</i></p>"
      ],
      "text/plain": [
       "<IPython.core.display.HTML object>"
      ]
     },
     "metadata": {},
     "output_type": "display_data"
    }
   ],
   "source": [
    "from IPython.display import Image, display, HTML\n",
    "display(HTML(\"<div style='text-align:center;'><img src='Images/CIL2.png', width='500'></div>\"))\n",
    "display(HTML(\"<p style='text-align:center; font-size:14px;'><i>Figure : CIL Pre-commencement workflow</i></p>\"))"
   ]
  },
  {
   "cell_type": "markdown",
   "id": "8b2c92e4",
   "metadata": {},
   "source": [
    "**Pre-commencement**<br>\n",
    "Once a CIL liable application is submitted, Acolaid sends updates to notify CIL officers. Developers can submit an Assumption of Liability along with the application, acknowledging their CIL liability. After the application is approved, the CIL officer calculates the payable amount based on factors such as land use type, CIL zone, Floor space, demolished floor space and affordable floor space. This payable amount is then informed to the developer in the form of a CIL Liability Notice. "
   ]
  },
  {
   "cell_type": "code",
   "execution_count": 301,
   "id": "4ea9516c",
   "metadata": {},
   "outputs": [
    {
     "data": {
      "text/html": [
       "<div style='text-align:center;'><img src='Images/CIL3.png', width='500'></div>"
      ],
      "text/plain": [
       "<IPython.core.display.HTML object>"
      ]
     },
     "metadata": {},
     "output_type": "display_data"
    },
    {
     "data": {
      "text/html": [
       "<p style='text-align:center; font-size:14px;'><i>Figure : CIL Commencement workflow</i></p>"
      ],
      "text/plain": [
       "<IPython.core.display.HTML object>"
      ]
     },
     "metadata": {},
     "output_type": "display_data"
    }
   ],
   "source": [
    "from IPython.display import Image, display, HTML\n",
    "display(HTML(\"<div style='text-align:center;'><img src='Images/CIL3.png', width='500'></div>\"))\n",
    "display(HTML(\"<p style='text-align:center; font-size:14px;'><i>Figure : CIL Commencement workflow</i></p>\"))"
   ]
  },
  {
   "cell_type": "markdown",
   "id": "16e5bc2d",
   "metadata": {},
   "source": [
    "**Commencement**<br>\n",
    "The developer submits a CIL Commencement Notice indicating the start date of any material operations. This can also be done through direct communication with the CIL officers. After this notice is received, they have 60 days to pay the CIL amount. If the developer submits the commencement notice on time, they qualify for instalment payments. Upon receiving the commencement notice, the CIL officer will issue a Demand Notice that outlines the exact payee, payable amount, due date and if applicable, instalment details.<br>\n",
    "Once the payment is made within the 60 days window, the payment information will be updated in Exacom. For phased developments, payment should be made for each phase. However, if the developer proceeds without making payment, and the CIL officer is made aware of this, the CIL officer will issue a new Demand Notice that includes a late payment surcharge."
   ]
  },
  {
   "cell_type": "code",
   "execution_count": 302,
   "id": "dd84932a",
   "metadata": {},
   "outputs": [
    {
     "data": {
      "text/html": [
       "<div style='text-align:center;'><img src='Images/CIL4.png', width='500'></div>"
      ],
      "text/plain": [
       "<IPython.core.display.HTML object>"
      ]
     },
     "metadata": {},
     "output_type": "display_data"
    },
    {
     "data": {
      "text/html": [
       "<p style='text-align:center; font-size:14px;'><i>Figure : CIL Completion workflow</i></p>"
      ],
      "text/plain": [
       "<IPython.core.display.HTML object>"
      ]
     },
     "metadata": {},
     "output_type": "display_data"
    }
   ],
   "source": [
    "from IPython.display import Image, display, HTML\n",
    "display(HTML(\"<div style='text-align:center;'><img src='Images/CIL4.png', width='500'></div>\"))\n",
    "display(HTML(\"<p style='text-align:center; font-size:14px;'><i>Figure : CIL Completion workflow</i></p>\"))"
   ]
  },
  {
   "cell_type": "markdown",
   "id": "ef4a8b2c",
   "metadata": {},
   "source": [
    "**Completion**<br>\n",
    "The completion of the site is shared with the CIL officer through weekly updates from Acolaid. CIL officers or consultants monitor the development for various reasons. The officers check for any breaches of S106 Agreement for the specified duration. As developers receive Social Housing Relief, the officers are responsible for ensuring that the residence remains in social housing for 7 years. If developers sell the social housing on the market before the period ends, they become disqualified from the relief, which should then be withdrawn. Otherwise, the relief remains in place. If the scheme is not implemented or expires, the CIL charge has to be removed, as well as any relief granted.\n",
    "\n",
    "<br>\n",
    "\n",
    "*CIL Forecasting Process and Outcome Data*"
   ]
  },
  {
   "cell_type": "markdown",
   "id": "5473f387",
   "metadata": {},
   "source": []
  },
  {
   "cell_type": "code",
   "execution_count": 325,
   "id": "079df588",
   "metadata": {},
   "outputs": [
    {
     "data": {
      "text/html": [
       "<div style='text-align:center;'><img src='Images/CIL5.png'></div>"
      ],
      "text/plain": [
       "<IPython.core.display.HTML object>"
      ]
     },
     "metadata": {},
     "output_type": "display_data"
    },
    {
     "data": {
      "text/html": [
       "<p style='text-align:center; font-size:14px;'><i>Figure : CIL Forecasting overall workflow</i></p>"
      ],
      "text/plain": [
       "<IPython.core.display.HTML object>"
      ]
     },
     "metadata": {},
     "output_type": "display_data"
    }
   ],
   "source": [
    "from IPython.display import Image, display, HTML\n",
    "display(HTML(\"<div style='text-align:center;'><img src='Images/CIL5.png'></div>\"))\n",
    "display(HTML(\"<p style='text-align:center; font-size:14px;'><i>Figure : CIL Forecasting overall workflow</i></p>\"))"
   ]
  },
  {
   "cell_type": "markdown",
   "id": "e3ab487f",
   "metadata": {},
   "source": [
    "The CIL forecasting team’s responsibilities can be divided into two main tasks: the Infrastructure Delivery Plan (IDP) and CIL projection.  "
   ]
  },
  {
   "cell_type": "code",
   "execution_count": 304,
   "id": "0d69d3c1",
   "metadata": {},
   "outputs": [
    {
     "data": {
      "text/html": [
       "<div style='text-align:center;'><img src='Images/CIL6.png', width='500'></div>"
      ],
      "text/plain": [
       "<IPython.core.display.HTML object>"
      ]
     },
     "metadata": {},
     "output_type": "display_data"
    },
    {
     "data": {
      "text/html": [
       "<p style='text-align:center; font-size:14px;'><i>Figure : CIL IDP workflow</i></p>"
      ],
      "text/plain": [
       "<IPython.core.display.HTML object>"
      ]
     },
     "metadata": {},
     "output_type": "display_data"
    }
   ],
   "source": [
    "from IPython.display import Image, display, HTML\n",
    "display(HTML(\"<div style='text-align:center;'><img src='Images/CIL6.png', width='500'></div>\"))\n",
    "display(HTML(\"<p style='text-align:center; font-size:14px;'><i>Figure : CIL IDP workflow</i></p>\"))"
   ]
  },
  {
   "cell_type": "markdown",
   "id": "353be5c3",
   "metadata": {},
   "source": [
    "**Infrastructure Delivery Plan (IDP)**<br>\n",
    "The CIL forecasting team identifies infrastructure needs and outlines what is required, where it is needed and when, which then will be planned and updated on its delivery. To achieve this, the CIL team gathers information from the Finance and Capital delivery teams to assess infrastructural needs for both existing and upcoming projects. The forecasting team compares this information from Capital Delivery’s Programme and analyses any funding gaps. They then develop placement plans, expected delivery timelines, and recommendations for the year. It will be published for the Local Plan (Reg 19) and reported to DLT and senior management.\n",
    "\n",
    "**CIL Projection**<br>\n",
    "CIL projection is intended for internal use, primarily for budgeting purposes. To calculate the expected income, the team collects data from site allocations and receives heads up from the DM team regarding Major sites at the pre-application stage. Based on these estimates and CIL payment information from Exacom, the team produces CIL projection, which is then shared within the infrastructure team."
   ]
  },
  {
   "cell_type": "markdown",
   "id": "16bb2ebd",
   "metadata": {},
   "source": [
    "\n",
    "#### S106 \n",
    "*S106 Introduction*<br>\n",
    "S106 Agreement is a planning obligation set through negotiations between the developer/landowner and the local authority before permission is granted. This agreement ensures that the developer contributes to the community by improving transport, enhancing biodiversity, providing community facilities, creating open spaces and/or offering affordable housing.\n",
    "\n",
    "*Process and Outcome Data*"
   ]
  },
  {
   "cell_type": "code",
   "execution_count": 305,
   "id": "f5273529",
   "metadata": {},
   "outputs": [
    {
     "data": {
      "text/html": [
       "<div style='text-align:center;'><img src='Images/S1061.png'></div>"
      ],
      "text/plain": [
       "<IPython.core.display.HTML object>"
      ]
     },
     "metadata": {},
     "output_type": "display_data"
    },
    {
     "data": {
      "text/html": [
       "<p style='text-align:center; font-size:14px;'><i>Figure : S106 overall workflow</i></p>"
      ],
      "text/plain": [
       "<IPython.core.display.HTML object>"
      ]
     },
     "metadata": {},
     "output_type": "display_data"
    }
   ],
   "source": [
    "from IPython.display import Image, display, HTML\n",
    "display(HTML(\"<div style='text-align:center;'><img src='Images/S1061.png'></div>\"))\n",
    "display(HTML(\"<p style='text-align:center; font-size:14px;'><i>Figure : S106 overall workflow</i></p>\"))"
   ]
  },
  {
   "cell_type": "code",
   "execution_count": 306,
   "id": "eb2d4ff4",
   "metadata": {},
   "outputs": [
    {
     "data": {
      "text/html": [
       "<div style='text-align:center;'><img src='Images/S1062.png', width='500'></div>"
      ],
      "text/plain": [
       "<IPython.core.display.HTML object>"
      ]
     },
     "metadata": {},
     "output_type": "display_data"
    },
    {
     "data": {
      "text/html": [
       "<p style='text-align:center; font-size:14px;'><i>Figure : S106 Pre-commencement workflow</i></p>"
      ],
      "text/plain": [
       "<IPython.core.display.HTML object>"
      ]
     },
     "metadata": {},
     "output_type": "display_data"
    }
   ],
   "source": [
    "from IPython.display import Image, display, HTML\n",
    "display(HTML(\"<div style='text-align:center;'><img src='Images/S1062.png', width='500'></div>\"))\n",
    "display(HTML(\"<p style='text-align:center; font-size:14px;'><i>Figure : S106 Pre-commencement workflow</i></p>\"))"
   ]
  },
  {
   "cell_type": "markdown",
   "id": "c2c63a5e",
   "metadata": {},
   "source": [
    "**Pre-commencement**<br>\n",
    "When a planning application is made, an initial draft known as the ‘head of terms’ is created. This draft is reviewed early in the application process by S106 officers and with DM officers. This will be developed and refined further as the process continues. The S106 team outlines the terms and conditions of the agreement, working closely with the Legal team while communicating with developers and consults with the internal teams within the council.<br>\n",
    "\n",
    "While drafting the agreement, a signed copy of the Rent and Nomination Agreement is provided by the Legal team, which then forms a part of the S106 as it pertains to affordable housing. Once the agreement is finalised, it is signed by both parties, and approval for the corresponding planning application is granted simultaneously. The Agreement includes details such as the tenure, accommodation schedule, wheelchair access, and car-free information. It is then uploaded to Idox and Exacom, as well as any Deed of Variation, if applicable, and the S106 status is updated on Acolaid."
   ]
  },
  {
   "cell_type": "code",
   "execution_count": 307,
   "id": "e8ee788c",
   "metadata": {},
   "outputs": [
    {
     "data": {
      "text/html": [
       "<div style='text-align:center;'><img src='Images/S1063.png', width='500'></div>"
      ],
      "text/plain": [
       "<IPython.core.display.HTML object>"
      ]
     },
     "metadata": {},
     "output_type": "display_data"
    },
    {
     "data": {
      "text/html": [
       "<p style='text-align:center; font-size:14px;'><i>Figure : S106 Commencement workflow</i></p>"
      ],
      "text/plain": [
       "<IPython.core.display.HTML object>"
      ]
     },
     "metadata": {},
     "output_type": "display_data"
    }
   ],
   "source": [
    "from IPython.display import Image, display, HTML\n",
    "display(HTML(\"<div style='text-align:center;'><img src='Images/S1063.png', width='500'></div>\"))\n",
    "display(HTML(\"<p style='text-align:center; font-size:14px;'><i>Figure : S106 Commencement workflow</i></p>\"))"
   ]
  },
  {
   "cell_type": "markdown",
   "id": "fac7b4bd",
   "metadata": {},
   "source": [
    "**Commencement**<br>\n",
    "Developers are required to inform the council about the S106’s commencement, as specified in the terms and conditions of the agreement. There may be instances where this notification is missing. In such cases, S106 officers investigate the commencement by communicating with the CIL team, reviewing any discharged pre-commencement obligations of the application, and checking BC records. Once the project commences, the payment information is updated on Exacom, and the developer discharges relevant the clauses as the construction progresses. Throughout the construction process, compliance with the agreement is monitored and recorded on Exacom."
   ]
  },
  {
   "cell_type": "code",
   "execution_count": 308,
   "id": "8e0ef71c",
   "metadata": {},
   "outputs": [
    {
     "data": {
      "text/html": [
       "<div style='text-align:center;'><img src='Images/S1064.png', width='500'></div>"
      ],
      "text/plain": [
       "<IPython.core.display.HTML object>"
      ]
     },
     "metadata": {},
     "output_type": "display_data"
    },
    {
     "data": {
      "text/html": [
       "<p style='text-align:center; font-size:14px;'><i>Figure : S106 Completion workflow</i></p>"
      ],
      "text/plain": [
       "<IPython.core.display.HTML object>"
      ]
     },
     "metadata": {},
     "output_type": "display_data"
    }
   ],
   "source": [
    "from IPython.display import Image, display, HTML\n",
    "display(HTML(\"<div style='text-align:center;'><img src='Images/S1064.png', width='500'></div>\"))\n",
    "display(HTML(\"<p style='text-align:center; font-size:14px;'><i>Figure : S106 Completion workflow</i></p>\"))"
   ]
  },
  {
   "cell_type": "markdown",
   "id": "c2a4d5e4",
   "metadata": {},
   "source": [
    "**Completion**<br>\n",
    "Once the construction is completed, the site is handed over from the Housing Supply team to the Registered Provider. The S106 officer will conduct checks to ensure the perpetuity of the social housing, Biodiversity Net Gain (BNG), and Travel (Transportation) over the specified period for each purpose.  If the final certificate for the site has not been issued upon completion, the S106 officer will consult with the Council Tax team or SNN team to verify the development status and will follow the usual completion procedures.\n",
    "\n",
    "#### Development Coordination\n",
    "*Introduction*<br>\n",
    "Development Coordination has been introduced to expedite the development process by proactively engaging with developers from the approval stage. The aim of the team is to minimise the impact on residents and enhance coordination between construction sites, entailing noise, dust, poor air quality, HGV congestion, and road access issues. The team works closely with internal council teams and maintains regular communication with developers.\n",
    "\n",
    "*Process and Outcome Data*"
   ]
  },
  {
   "cell_type": "code",
   "execution_count": 309,
   "id": "369478a0",
   "metadata": {},
   "outputs": [
    {
     "data": {
      "text/html": [
       "<div style='text-align:center;'><img src='Images/DC1.png'></div>"
      ],
      "text/plain": [
       "<IPython.core.display.HTML object>"
      ]
     },
     "metadata": {},
     "output_type": "display_data"
    },
    {
     "data": {
      "text/html": [
       "<p style='text-align:center; font-size:14px;'><i>Figure : Development Coordination overall workflow</i></p>"
      ],
      "text/plain": [
       "<IPython.core.display.HTML object>"
      ]
     },
     "metadata": {},
     "output_type": "display_data"
    }
   ],
   "source": [
    "from IPython.display import Image, display, HTML\n",
    "display(HTML(\"<div style='text-align:center;'><img src='Images/DC1.png'></div>\"))\n",
    "display(HTML(\"<p style='text-align:center; font-size:14px;'><i>Figure : Development Coordination overall workflow</i></p>\"))"
   ]
  },
  {
   "cell_type": "code",
   "execution_count": 310,
   "id": "50f27998",
   "metadata": {},
   "outputs": [
    {
     "data": {
      "text/html": [
       "<div style='text-align:center;'><img src='Images/DC2.png', width='500'></div>"
      ],
      "text/plain": [
       "<IPython.core.display.HTML object>"
      ]
     },
     "metadata": {},
     "output_type": "display_data"
    },
    {
     "data": {
      "text/html": [
       "<p style='text-align:center; font-size:14px;'><i>Figure : Development Coordination Pre-commencement workflow</i></p>"
      ],
      "text/plain": [
       "<IPython.core.display.HTML object>"
      ]
     },
     "metadata": {},
     "output_type": "display_data"
    }
   ],
   "source": [
    "from IPython.display import Image, display, HTML\n",
    "display(HTML(\"<div style='text-align:center;'><img src='Images/DC2.png', width='500'></div>\"))\n",
    "display(HTML(\"<p style='text-align:center; font-size:14px;'><i>Figure : Development Coordination Pre-commencement workflow</i></p>\"))"
   ]
  },
  {
   "cell_type": "markdown",
   "id": "12e4b4cc",
   "metadata": {},
   "source": [
    "**Pre-commencement**<br>\n",
    "The Construction Management Plan (CMP) service oversees the compliance of CMP and Site Environmental Management Plans (SEMP) throughout the entire construction process. The team’s engagement begins when a developer applies for CMP services following the approval of a major application. Once the fee is paid, the CMP officer assists the developer in completing the Code of Construction Practice Checklist, which is mandatory for all major development schemes. During the review stage, the Development Coordinator consults with various internal teams including Highway, Environment, Health and Circular Economy. After the checklist is approved and signed, the developer can commence work."
   ]
  },
  {
   "cell_type": "code",
   "execution_count": 311,
   "id": "b42ccb75",
   "metadata": {},
   "outputs": [
    {
     "data": {
      "text/html": [
       "<div style='text-align:center;'><img src='Images/DC3.png', width='500'></div>"
      ],
      "text/plain": [
       "<IPython.core.display.HTML object>"
      ]
     },
     "metadata": {},
     "output_type": "display_data"
    },
    {
     "data": {
      "text/html": [
       "<p style='text-align:center; font-size:14px;'><i>Figure : Development Coordination Post-Commencement workflow</i></p>"
      ],
      "text/plain": [
       "<IPython.core.display.HTML object>"
      ]
     },
     "metadata": {},
     "output_type": "display_data"
    }
   ],
   "source": [
    "from IPython.display import Image, display, HTML\n",
    "display(HTML(\"<div style='text-align:center;'><img src='Images/DC3.png', width='500'></div>\"))\n",
    "display(HTML(\"<p style='text-align:center; font-size:14px;'><i>Figure : Development Coordination Post-Commencement workflow</i></p>\"))"
   ]
  },
  {
   "cell_type": "markdown",
   "id": "b9064d55",
   "metadata": {},
   "source": [
    "**Post-Commencement**<br>\n",
    "The CMP officer will recognise the commencement through communications with developers or S106 payment. From this point onward, the CMP Service will monitor compliance with relevant documents for the duration of the development. This checklist details the necessary information for the discharging plans, including the CMP and Construction Traffic Management Plan, as well as the SEMP. The SEMP is comprised of three parts: Part A covers Noise & Vibration Management Plan, Part B addresses Dust and Air Quality Management Plan, and Part C focuses on the Site Waste Management Plan. Compliance with the CoCP is monitored using a spreadsheet throughout the construction, and the development coordination’s responsibilities conclude when the occupation begins. "
   ]
  },
  {
   "cell_type": "markdown",
   "id": "7eff303e",
   "metadata": {},
   "source": [
    "\n",
    "### Building Control\n",
    "*Introduction*<br>\n",
    "Building Control is a process that ensures construction works comply with building regulations and standards for the health and safety of residents before any works begin. The team oversees various types of building works specified in the regulations, such as new buildings, change of use, and alteration or conversion of existing buildings. The application will be reviewed and monitored throughout the development and can be issued a certificate upon completion. Besides Building Control, two other entities can serve similar functions: Approved Inspector and Building Safety Regulator (BSR). \n",
    "\n",
    "*Process and Outcome Data*"
   ]
  },
  {
   "cell_type": "code",
   "execution_count": 312,
   "id": "71586335",
   "metadata": {},
   "outputs": [
    {
     "data": {
      "text/html": [
       "<div style='text-align:center;'><img src='Images/BC1.png'></div>"
      ],
      "text/plain": [
       "<IPython.core.display.HTML object>"
      ]
     },
     "metadata": {},
     "output_type": "display_data"
    },
    {
     "data": {
      "text/html": [
       "<p style='text-align:center; font-size:14px;'><i>Figure : Building Control overall workflow</i></p>"
      ],
      "text/plain": [
       "<IPython.core.display.HTML object>"
      ]
     },
     "metadata": {},
     "output_type": "display_data"
    }
   ],
   "source": [
    "from IPython.display import Image, display, HTML\n",
    "display(HTML(\"<div style='text-align:center;'><img src='Images/BC1.png'></div>\"))\n",
    "display(HTML(\"<p style='text-align:center; font-size:14px;'><i>Figure : Building Control overall workflow</i></p>\"))"
   ]
  },
  {
   "cell_type": "code",
   "execution_count": 313,
   "id": "fdcde070",
   "metadata": {},
   "outputs": [
    {
     "data": {
      "text/html": [
       "<div style='text-align:center;'><img src='Images/BC2.png'></div>"
      ],
      "text/plain": [
       "<IPython.core.display.HTML object>"
      ]
     },
     "metadata": {},
     "output_type": "display_data"
    },
    {
     "data": {
      "text/html": [
       "<p style='text-align:center; font-size:14px;'><i>Figure : Building Control Pre-commencement workflow</i></p>"
      ],
      "text/plain": [
       "<IPython.core.display.HTML object>"
      ]
     },
     "metadata": {},
     "output_type": "display_data"
    }
   ],
   "source": [
    "from IPython.display import Image, display, HTML\n",
    "display(HTML(\"<div style='text-align:center;'><img src='Images/BC2.png'></div>\"))\n",
    "display(HTML(\"<p style='text-align:center; font-size:14px;'><i>Figure : Building Control Pre-commencement workflow</i></p>\"))"
   ]
  },
  {
   "cell_type": "markdown",
   "id": "5d6c01ab",
   "metadata": {},
   "source": [
    "**Building Control Pre-commencement**<br>\n",
    "When Developers submit Building Control applications through the Building Control Portal, Divisional Support processes appropriate documentation. After Divisional Support validates the application, the BC team hands it over to an assigned to an officer (surveyor) who evaluates it to determine whether it will be approved, approved with conditions, or refused. <br>\n",
    "\n",
    "Once the application is approved, the developer should notify the BC team by submitting commencement notice at least 48 hours prior to starting work. When the application is granted with conditions, the developers will be asked to provide more information. Once the BC officer sufficiently gathered the relevant information, the developer can begin the construction process. If the application is refused, the developer will need to start the approval process from the beginning to commence the construction."
   ]
  },
  {
   "cell_type": "code",
   "execution_count": 314,
   "id": "217d94d0",
   "metadata": {},
   "outputs": [
    {
     "data": {
      "text/html": [
       "<div style='text-align:center;'><img src='Images/BC3.png', width='500'></div>"
      ],
      "text/plain": [
       "<IPython.core.display.HTML object>"
      ]
     },
     "metadata": {},
     "output_type": "display_data"
    },
    {
     "data": {
      "text/html": [
       "<p style='text-align:center; font-size:14px;'><i>Figure : Building Control Post-commencement workflow</i></p>"
      ],
      "text/plain": [
       "<IPython.core.display.HTML object>"
      ]
     },
     "metadata": {},
     "output_type": "display_data"
    }
   ],
   "source": [
    "from IPython.display import Image, display, HTML\n",
    "display(HTML(\"<div style='text-align:center;'><img src='Images/BC3.png', width='500'></div>\"))\n",
    "display(HTML(\"<p style='text-align:center; font-size:14px;'><i>Figure : Building Control Post-commencement workflow</i></p>\"))"
   ]
  },
  {
   "cell_type": "markdown",
   "id": "bce6c253",
   "metadata": {},
   "source": [
    "**Building Control Post-commencement**<br>\n",
    "As the building work begins, the BC officer starts the first stage of Inspection, which will be recorded on Acolaid along with the inspection date. A total of nine inspection will be conducted by BC officers and recorded as the construction proceeds. Advancing towards the completion, if the site is partially finished and ready for occupancy, the officers can perform the occupation inspection and issue the Occupation Certificate for the pertinent plots. The Occupation Certificate includes details such as the completed block address, plot number, date, as well as the name of the owner (occupier). Divisional Support enters again during this stage to send occupation letters to clients. <br>\n",
    "\n",
    "Once the entire site is completed, the BC officer will review the planning applications to ensure they align with the result. They will also cross-reference the BC plot information with the SNN Final Order addresses. Similar to the Occupation Certificate, the Final Certificate contains information about the block address, completion date, and inspection date. All documents generated during this process, including the Final Certificate, will be saved in Laserfiche and uploaded into Acolaid. The Final Certificate will then be shared with various council teams including Council Tax and Capital Delivery, as well as the developers.  "
   ]
  },
  {
   "cell_type": "code",
   "execution_count": 315,
   "id": "f487d05a",
   "metadata": {},
   "outputs": [
    {
     "data": {
      "text/html": [
       "<div style='text-align:center;'><img src='Images/BC4.png'></div>"
      ],
      "text/plain": [
       "<IPython.core.display.HTML object>"
      ]
     },
     "metadata": {},
     "output_type": "display_data"
    },
    {
     "data": {
      "text/html": [
       "<p style='text-align:center; font-size:14px;'><i>Figure : Building Control Approved Inspector workflow</i></p>"
      ],
      "text/plain": [
       "<IPython.core.display.HTML object>"
      ]
     },
     "metadata": {},
     "output_type": "display_data"
    }
   ],
   "source": [
    "from IPython.display import Image, display, HTML\n",
    "display(HTML(\"<div style='text-align:center;'><img src='Images/BC4.png'></div>\"))\n",
    "display(HTML(\"<p style='text-align:center; font-size:14px;'><i>Figure : Building Control Approved Inspector workflow</i></p>\"))"
   ]
  },
  {
   "cell_type": "markdown",
   "id": "95c7c779",
   "metadata": {},
   "source": [
    "**Approved Inspector**<br>\n",
    "Approved Inspectors are private entities approved by government and BSR to provide building control services. Their roles and functions are similar to those of Local Authority Building Control and Developers have the option to have their inspections conducted by Approved Inspectors. <br>\n",
    "\n",
    "When the developers chose this option, the Approved Inspector submits Initial Notice (IN) Application to BC, and later notifies the council about the commencement of the work. The registration of this Notice by BC is considered acceptance of the work and will be assigned a reference number. If any Amendments or Cancellations occur, the Approved Inspector will send a notice to the council. On a par with the Occupation Certificate by BC, a Part Final Certificate is provided for partially completed work, detailing the completion date and unit details, followed by the Final Certificate upon full completion. All the notices and certificates that are shared with the council is saved in Laserfiche and registered on Acolaid.   \n",
    "\n",
    "**Building Safety Regulator (BSR)**<br>\n",
    "Starting in 2023, high-risk buildings – over 7 stories or 18 metres tall -need to obtain Building Control approval from BSR. During this process, the BC team acts as a consultant. Once BSR receives the application, they check with the local council to ensure they have the capacity to process the application. After construction begins, the BC team provides technical advice and ensures compliance with development regulations. The BSR will manage the overall process will issue all the correspondences and certificates related to the project."
   ]
  },
  {
   "cell_type": "markdown",
   "id": "0b73c911",
   "metadata": {},
   "source": [
    "### Street Naming and Numbering\n",
    "*Introduction*<br>\n",
    "The Street Name and Number (SNN) Team manages the official naming and numbering of streets and buildings in new sites. Their work begins after the SNN validation from DS Team, ensures that the building names and addresses are unique and compliant."
   ]
  },
  {
   "cell_type": "code",
   "execution_count": 316,
   "id": "45bc4009",
   "metadata": {},
   "outputs": [
    {
     "data": {
      "text/html": [
       "<div style='text-align:center;'><img src='Images/SNN1.png'></div>"
      ],
      "text/plain": [
       "<IPython.core.display.HTML object>"
      ]
     },
     "metadata": {},
     "output_type": "display_data"
    },
    {
     "data": {
      "text/html": [
       "<p style='text-align:center; font-size:14px;'><i>Figure : Street Naming and Numbering overall workflow</i></p>"
      ],
      "text/plain": [
       "<IPython.core.display.HTML object>"
      ]
     },
     "metadata": {},
     "output_type": "display_data"
    }
   ],
   "source": [
    "from IPython.display import Image, display, HTML\n",
    "display(HTML(\"<div style='text-align:center;'><img src='Images/SNN1.png'></div>\"))\n",
    "display(HTML(\"<p style='text-align:center; font-size:14px;'><i>Figure : Street Naming and Numbering overall workflow</i></p>\"))"
   ]
  },
  {
   "cell_type": "markdown",
   "id": "9666da12",
   "metadata": {},
   "source": [
    "*Process Overview*<br>\n",
    "**Step 1: Intial Check and Handover**\n",
    "<ul>\n",
    "    <li>Once the DS Team completes the SNN validation process, the application is handed over to the SNN Team. The SNN Manager assigns it to a Case Officer.</li>\n",
    "    <li>The Case Officer starts an initial check to ensure all necessary documents are there. If documents are incomplete, the Case Officer rejects the case and requests additional information from the developer.</li>\n",
    "</ul>"
   ]
  },
  {
   "cell_type": "code",
   "execution_count": 317,
   "id": "d1aaef84",
   "metadata": {},
   "outputs": [
    {
     "data": {
      "text/html": [
       "<div style='text-align:center;'><img src='Images/SNN2.png', width='500'></div>"
      ],
      "text/plain": [
       "<IPython.core.display.HTML object>"
      ]
     },
     "metadata": {},
     "output_type": "display_data"
    },
    {
     "data": {
      "text/html": [
       "<p style='text-align:center; font-size:14px;'><i>Figure : Step 1 for SNN process</i></p>"
      ],
      "text/plain": [
       "<IPython.core.display.HTML object>"
      ]
     },
     "metadata": {},
     "output_type": "display_data"
    }
   ],
   "source": [
    "from IPython.display import Image, display, HTML\n",
    "display(HTML(\"<div style='text-align:center;'><img src='Images/SNN2.png', width='500'></div>\"))\n",
    "display(HTML(\"<p style='text-align:center; font-size:14px;'><i>Figure : Step 1 for SNN process</i></p>\"))"
   ]
  },
  {
   "cell_type": "markdown",
   "id": "06df8f75",
   "metadata": {},
   "source": [
    "**Step 2: Name Selection and Confirmation**<br>\n",
    "<ul>\n",
    "    <li>After the initial checks, the Case Officer consults with the developer to select building and street names.</li>\n",
    "    <li>The developer may either provide names or ask for suggestions from the SNN Team.</li>\n",
    "    <li>Once names are proposed, the Case Officer checks their uniqueness using the Local Land and Property Gazetteer (LLPG). If the name is a duplicate, the developer is asked to provide new names.</li>\n",
    "    <li>Once a name is selected, the Case Officer consults the London Fire Brigade and assigns addresses based on British Standards 7666.</li>\n",
    "    <li>The Case Officer creates a street and building plan in Acolaid DMS and ArcMap.</li>\n",
    "    <li>The Case Officer works with Royal Mail to confirm the postal codes. Royal Mail provides the postcodes, finalising the complete addresses.</li>\n",
    "</ul>"
   ]
  },
  {
   "cell_type": "code",
   "execution_count": 318,
   "id": "5b5f266d",
   "metadata": {},
   "outputs": [
    {
     "data": {
      "text/html": [
       "<div style='text-align:center;'><img src='Images/SNN3.png', width='500'></div>"
      ],
      "text/plain": [
       "<IPython.core.display.HTML object>"
      ]
     },
     "metadata": {},
     "output_type": "display_data"
    },
    {
     "data": {
      "text/html": [
       "<p style='text-align:center; font-size:14px;'><i>Figure : Step 2 for SNN process</i></p>"
      ],
      "text/plain": [
       "<IPython.core.display.HTML object>"
      ]
     },
     "metadata": {},
     "output_type": "display_data"
    }
   ],
   "source": [
    "from IPython.display import Image, display, HTML\n",
    "display(HTML(\"<div style='text-align:center;'><img src='Images/SNN3.png', width='500'></div>\"))\n",
    "display(HTML(\"<p style='text-align:center; font-size:14px;'><i>Figure : Step 2 for SNN process</i></p>\"))"
   ]
  },
  {
   "cell_type": "markdown",
   "id": "4bb6f341",
   "metadata": {},
   "source": [
    "**Step 3: Sign, Store, and Share the Documents**<br>\n",
    "<ul>\n",
    "    <li>The Case Officer create the BLUPs link on Acolaid DMS as a unique Identifier. </li>\n",
    "    <li>The Case Officer then creates the necessary documents:</li>\n",
    "        <ul>\n",
    "            <li>SNN Development Spreadsheet – records for site Plot Detail, Official/Postal Address Details, Residential Details, Application Case Reference Number and Car Parking Restrictions</li>\n",
    "            <li>Final Order – Formal document recording the street names and addresses.</li>\n",
    "            <li>Address Schedule – A detailed list of all assigned addresses.</li>\n",
    "            <li>Cover Letter – Accompanying formal communication for the documents.</li>\n",
    "        </ul>\n",
    "    <li>These documents are submitted to the SNN Manager for review.</li>\n",
    "    The documents are also shared with the Building Control (BC) Team for cross-checking, confirming that the site has been completed.</li>\n",
    "    <li>Upon approval, the Final Order and relevant documents are stored in the appropriate systems. The SNN Development Spreadsheet, Cover Letter, and SNN Schedule are stored in Laserfiche. The Final Order is saved in Acolaid DMS.</li>\n",
    "    <li>The Final Order is shared with key stakeholders, including the Parking Team, Council Tax Team, Land and Property Gazetteer (LPG) Team and the BC Team, while external entities like NHS, Royal Mail, the developer, and the London Fire Brigade are notified via email or copies of the documents.</li>\n",
    "</ul>"
   ]
  },
  {
   "cell_type": "code",
   "execution_count": 319,
   "id": "c4ffb863",
   "metadata": {},
   "outputs": [
    {
     "data": {
      "text/html": [
       "<div style='text-align:center;'><img src='Images/SNN4.png', width='500'></div>"
      ],
      "text/plain": [
       "<IPython.core.display.HTML object>"
      ]
     },
     "metadata": {},
     "output_type": "display_data"
    },
    {
     "data": {
      "text/html": [
       "<p style='text-align:center; font-size:14px;'><i>Figure : Step 3 for SNN process</i></p>"
      ],
      "text/plain": [
       "<IPython.core.display.HTML object>"
      ]
     },
     "metadata": {},
     "output_type": "display_data"
    }
   ],
   "source": [
    "from IPython.display import Image, display, HTML\n",
    "display(HTML(\"<div style='text-align:center;'><img src='Images/SNN4.png', width='500'></div>\"))\n",
    "display(HTML(\"<p style='text-align:center; font-size:14px;'><i>Figure : Step 3 for SNN process</i></p>\"))"
   ]
  },
  {
   "cell_type": "markdown",
   "id": "dd1f80ae",
   "metadata": {},
   "source": [
    "### Land and Property Gazetteer – LPG \n",
    "*Introduction*<br>\n",
    "The Local Land and Property Gazetteer (LLPG), interchangeably called LPG, is an address database maintained by the local authority for properties and land within the borough. The team is responsible for managing the addresses using Unique Property Reference Number (UPRN) as a key identifier."
   ]
  },
  {
   "cell_type": "code",
   "execution_count": 320,
   "id": "5b495402",
   "metadata": {},
   "outputs": [
    {
     "data": {
      "text/html": [
       "<div style='text-align:center;'><img src='Images/LPG1.png'></div>"
      ],
      "text/plain": [
       "<IPython.core.display.HTML object>"
      ]
     },
     "metadata": {},
     "output_type": "display_data"
    },
    {
     "data": {
      "text/html": [
       "<p style='text-align:center; font-size:14px;'><i>Figure : Land and Property Gazetteer overall workflow</i></p>"
      ],
      "text/plain": [
       "<IPython.core.display.HTML object>"
      ]
     },
     "metadata": {},
     "output_type": "display_data"
    }
   ],
   "source": [
    "from IPython.display import Image, display, HTML\n",
    "display(HTML(\"<div style='text-align:center;'><img src='Images/LPG1.png'></div>\"))\n",
    "display(HTML(\"<p style='text-align:center; font-size:14px;'><i>Figure : Land and Property Gazetteer overall workflow</i></p>\"))"
   ]
  },
  {
   "cell_type": "markdown",
   "id": "705ca6cc",
   "metadata": {},
   "source": [
    "*Process and Outcome Data*<br>\n",
    "Once a development is completed and the SNN team signs off the Final Order, the information is saved in Acolaid, including details about the units and addresses. This addresses from the SNN module are then extracted to LPG module, where the LPG officer registers the addresses and connects them to the Parent/UPRN. This information is also updated in Acolaid and the final address is shared with GIS, Social Services, and with other teams within the council.<br>\n",
    "\n",
    "The LPG team conducts a monthly address check with Council Tax. They receive addresses from CT, match them, assign a UPRN, and then load the updated information back into CT system. Additionally, the LPG team checks for discrepancies between GeoPlace, which is updated with input from local authorities. If any discrepancies arise between GeoPlace and LPG, the team is notified and will correct the addresses accordingly.\n"
   ]
  },
  {
   "cell_type": "markdown",
   "id": "b14bda9e",
   "metadata": {},
   "source": [
    "### Housing Supply\n",
    "*Introduction*<br>\n",
    "The Housing Supply Team plays a key role in the early-stage development of housing sites and the subsequent phases of site approval, commencement, and completion. Their work is divided into two main parts: involvement in the Local Plan process and post-approval activities related to rent and nominations.\n",
    "\n",
    "*Process Overview*<br>\n",
    "**Part 1: Involvement in the Local Plan**\n",
    "<ul>\n",
    "    <li>During the Local Plan stage, the Housing Supply Team works on a check of potential sites that could be developed for housing. This check focuses on physical condition of the site, construction feasibility, ownership status and risk associations.</li>\n",
    "    <li>If a site is deemed unsuitable for development, it is rejected with a classification of “cannot be developed.” If the site is suitable, it is accepted and added to the Planning Portal, where developers can apply for permission to develop the site.</li>\n",
    "    <li>After identifying developable sites, the Housing Supply Team hands over their findings to the Capital Delivery Team.</li>\n",
    "</ul>"
   ]
  },
  {
   "cell_type": "code",
   "execution_count": 321,
   "id": "04186cff",
   "metadata": {
    "hide_input": true
   },
   "outputs": [
    {
     "data": {
      "text/html": [
       "<div style='text-align:center;'><img src='Images/HS1.png', width='500'></div>"
      ],
      "text/plain": [
       "<IPython.core.display.HTML object>"
      ]
     },
     "metadata": {},
     "output_type": "display_data"
    },
    {
     "data": {
      "text/html": [
       "<p style='text-align:center; font-size:14px;'><i>Figure : Part 1 for HS process</i></p>"
      ],
      "text/plain": [
       "<IPython.core.display.HTML object>"
      ]
     },
     "metadata": {},
     "output_type": "display_data"
    }
   ],
   "source": [
    "from IPython.display import Image, display, HTML\n",
    "display(HTML(\"<div style='text-align:center;'><img src='Images/HS1.png', width='500'></div>\"))\n",
    "display(HTML(\"<p style='text-align:center; font-size:14px;'><i>Figure : Part 1 for HS process</i></p>\"))"
   ]
  },
  {
   "cell_type": "markdown",
   "id": "ca9bd8ae",
   "metadata": {},
   "source": [
    "**Part 2: Site Approval, Commencement, and Completion**<br>\n",
    "<ul>\n",
    "    <li>The Housing Supply Team participates to Rent and Nominations preparations and signs with the Section 106 Team (S106), Legal Team, and Registered Providers through meetings and emails after a site be approved, to ensure the agreements are legally binding and properly prepared.</li>\n",
    "    <li>At the commencement stage, the Housing Supply Team checks affordable housing details, including scheme names, tenants, bedroom sizes, which is crucial for tracking the housing supply.</li>\n",
    "    <li>The Housing Supply Team check the data with Registered Providers and DDC&IU Team to ensure its accuracy.</li>\n",
    "</ul>"
   ]
  },
  {
   "cell_type": "code",
   "execution_count": 322,
   "id": "939520bf",
   "metadata": {},
   "outputs": [
    {
     "data": {
      "text/html": [
       "<div style='text-align:center;'><img src='Images/HS2.png', width='500'></div>"
      ],
      "text/plain": [
       "<IPython.core.display.HTML object>"
      ]
     },
     "metadata": {},
     "output_type": "display_data"
    },
    {
     "data": {
      "text/html": [
       "<p style='text-align:center; font-size:14px;'><i>Figure : Part 2 for HS process</i></p>"
      ],
      "text/plain": [
       "<IPython.core.display.HTML object>"
      ]
     },
     "metadata": {},
     "output_type": "display_data"
    }
   ],
   "source": [
    "from IPython.display import Image, display, HTML\n",
    "display(HTML(\"<div style='text-align:center;'><img src='Images/HS2.png', width='500'></div>\"))\n",
    "display(HTML(\"<p style='text-align:center; font-size:14px;'><i>Figure : Part 2 for HS process</i></p>\"))"
   ]
  },
  {
   "cell_type": "markdown",
   "id": "c1ed3469",
   "metadata": {},
   "source": [
    "### Council Tax"
   ]
  },
  {
   "cell_type": "markdown",
   "id": "c0bf272d",
   "metadata": {},
   "source": [
    "### Capital Delivery"
   ]
  },
  {
   "cell_type": "markdown",
   "id": "d485d3fe",
   "metadata": {},
   "source": [
    "### Waste and Environment"
   ]
  }
 ],
 "metadata": {
  "jupytext": {
   "cell_metadata_filter": "-all",
   "main_language": "python",
   "notebook_metadata_filter": "-all"
  },
  "kernelspec": {
   "display_name": "3.11.8",
   "language": "python",
   "name": "python3"
  },
  "language_info": {
   "codemirror_mode": {
    "name": "ipython",
    "version": 3
   },
   "file_extension": ".py",
   "mimetype": "text/x-python",
   "name": "python",
   "nbconvert_exporter": "python",
   "pygments_lexer": "ipython3",
   "version": "3.11.8"
  }
 },
 "nbformat": 4,
 "nbformat_minor": 5
}
